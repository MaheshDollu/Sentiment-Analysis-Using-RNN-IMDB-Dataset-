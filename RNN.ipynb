{
  "nbformat": 4,
  "nbformat_minor": 0,
  "metadata": {
    "colab": {
      "provenance": []
    },
    "kernelspec": {
      "name": "python3",
      "display_name": "Python 3"
    },
    "language_info": {
      "name": "python"
    }
  },
  "cells": [
    {
      "cell_type": "code",
      "source": [
        "import tensorflow as tf\n",
        "from tensorflow.keras.models import Sequential\n",
        "from tensorflow.keras.layers import Embedding, LSTM, Dense, Dropout\n",
        "from tensorflow.keras.preprocessing.sequence import pad_sequences\n",
        "from tensorflow.keras.datasets import imdb\n"
      ],
      "metadata": {
        "id": "LHy6pbu_ou5m",
        "colab": {
          "base_uri": "https://localhost:8080/"
        },
        "outputId": "5f2fe1e8-9430-4932-93a4-32414386d611"
      },
      "execution_count": 2,
      "outputs": [
        {
          "output_type": "stream",
          "name": "stdout",
          "text": [
            "Downloading data from https://storage.googleapis.com/tensorflow/tf-keras-datasets/imdb.npz\n",
            "\u001b[1m17464789/17464789\u001b[0m \u001b[32m━━━━━━━━━━━━━━━━━━━━\u001b[0m\u001b[37m\u001b[0m \u001b[1m1s\u001b[0m 0us/step\n"
          ]
        }
      ]
    },
    {
      "cell_type": "code",
      "source": [
        "# Load and preprocess IMDB dataset\n",
        "vocab_size = 10000  # Use top 10,000 words\n",
        "max_len = 200  # Max length of reviews\n",
        "\n",
        "(x_train, y_train), (x_test, y_test) = imdb.load_data(num_words=vocab_size)\n",
        "x_train = pad_sequences(x_train, maxlen=max_len)\n",
        "x_test = pad_sequences(x_test, maxlen=max_len)"
      ],
      "metadata": {
        "id": "9b_tKotW4JgI"
      },
      "execution_count": 23,
      "outputs": []
    },
    {
      "cell_type": "code",
      "source": [
        "# Build the RNN model with LSTM\n",
        "model = Sequential([\n",
        "    Embedding(vocab_size, 128, input_length=max_len),\n",
        "    LSTM(64, dropout=0.5, recurrent_dropout=0.5),\n",
        "    Dense(1, activation='sigmoid')  # Binary classification (positive/negative)\n",
        "])"
      ],
      "metadata": {
        "colab": {
          "base_uri": "https://localhost:8080/"
        },
        "id": "eO_H9lW-l8D9",
        "outputId": "219f1609-9dbb-4b2e-f29e-9e4badc9162c"
      },
      "execution_count": 3,
      "outputs": [
        {
          "output_type": "stream",
          "name": "stderr",
          "text": [
            "/usr/local/lib/python3.10/dist-packages/keras/src/layers/core/embedding.py:90: UserWarning: Argument `input_length` is deprecated. Just remove it.\n",
            "  warnings.warn(\n"
          ]
        }
      ]
    },
    {
      "cell_type": "code",
      "source": [
        "# Compile and train the model\n",
        "model.compile(optimizer='adam', loss='binary_crossentropy', metrics=['accuracy'])\n",
        "model.fit(x_train, y_train, epochs=5, batch_size=64, validation_data=(x_test, y_test))"
      ],
      "metadata": {
        "colab": {
          "base_uri": "https://localhost:8080/"
        },
        "id": "bKvLBDuHl9RA",
        "outputId": "6f280dfd-4412-4272-9ef0-3bf537fb3e28"
      },
      "execution_count": 4,
      "outputs": [
        {
          "output_type": "stream",
          "name": "stdout",
          "text": [
            "Epoch 1/5\n",
            "\u001b[1m391/391\u001b[0m \u001b[32m━━━━━━━━━━━━━━━━━━━━\u001b[0m\u001b[37m\u001b[0m \u001b[1m143s\u001b[0m 358ms/step - accuracy: 0.6654 - loss: 0.5996 - val_accuracy: 0.8387 - val_loss: 0.3768\n",
            "Epoch 2/5\n",
            "\u001b[1m391/391\u001b[0m \u001b[32m━━━━━━━━━━━━━━━━━━━━\u001b[0m\u001b[37m\u001b[0m \u001b[1m142s\u001b[0m 364ms/step - accuracy: 0.8240 - loss: 0.4053 - val_accuracy: 0.8254 - val_loss: 0.4131\n",
            "Epoch 3/5\n",
            "\u001b[1m391/391\u001b[0m \u001b[32m━━━━━━━━━━━━━━━━━━━━\u001b[0m\u001b[37m\u001b[0m \u001b[1m139s\u001b[0m 355ms/step - accuracy: 0.8494 - loss: 0.3601 - val_accuracy: 0.8302 - val_loss: 0.3889\n",
            "Epoch 4/5\n",
            "\u001b[1m391/391\u001b[0m \u001b[32m━━━━━━━━━━━━━━━━━━━━\u001b[0m\u001b[37m\u001b[0m \u001b[1m142s\u001b[0m 355ms/step - accuracy: 0.8642 - loss: 0.3248 - val_accuracy: 0.8191 - val_loss: 0.4172\n",
            "Epoch 5/5\n",
            "\u001b[1m391/391\u001b[0m \u001b[32m━━━━━━━━━━━━━━━━━━━━\u001b[0m\u001b[37m\u001b[0m \u001b[1m143s\u001b[0m 359ms/step - accuracy: 0.8553 - loss: 0.3423 - val_accuracy: 0.8256 - val_loss: 0.4079\n"
          ]
        },
        {
          "output_type": "execute_result",
          "data": {
            "text/plain": [
              "<keras.src.callbacks.history.History at 0x7893f0dc8c10>"
            ]
          },
          "metadata": {},
          "execution_count": 4
        }
      ]
    },
    {
      "cell_type": "code",
      "source": [
        "# Evaluate the model\n",
        "test_loss, test_acc = model.evaluate(x_test, y_test, verbose=2)\n",
        "print(f\"Test accuracy: {test_acc}\")"
      ],
      "metadata": {
        "colab": {
          "base_uri": "https://localhost:8080/"
        },
        "id": "YBa0xKyamAlN",
        "outputId": "af577523-af13-4d32-e3f0-602cf33fa54c"
      },
      "execution_count": 5,
      "outputs": [
        {
          "output_type": "stream",
          "name": "stdout",
          "text": [
            "782/782 - 27s - 35ms/step - accuracy: 0.8256 - loss: 0.4079\n",
            "Test accuracy: 0.8256000280380249\n"
          ]
        }
      ]
    },
    {
      "cell_type": "code",
      "source": [
        "def predict_sentiment(review):\n",
        "    # Simple negation handling\n",
        "    negations = [\"not\", \"no\", \"never\"]\n",
        "    tokens = tf.keras.preprocessing.text.text_to_word_sequence(review)\n",
        "\n",
        "    # Mark negations\n",
        "    for i, word in enumerate(tokens):\n",
        "        if word in negations and i + 1 < len(tokens):\n",
        "            tokens[i + 1] = \"not_\" + tokens[i + 1]  # Prefix \"not_\" to the next word\n",
        "\n",
        "    # Convert words to indices\n",
        "    word_index = imdb.get_word_index()\n",
        "    review_indices = [word_index.get(word, 0) for word in tokens]\n",
        "    review_padded = pad_sequences([review_indices], maxlen=max_len)\n",
        "\n",
        "    # Make prediction\n",
        "    prediction = model.predict(review_padded)\n",
        "    sentiment = 'Positive' if prediction > 0.5 else 'Negative'\n",
        "    return sentiment"
      ],
      "metadata": {
        "id": "GJnRcJdAqKGQ"
      },
      "execution_count": 18,
      "outputs": []
    },
    {
      "cell_type": "code",
      "source": [
        "new_review_1 = \"This film was a masterpiece! The acting was top-notch.\"\n",
        "print(f\"Sentiment: {predict_sentiment(new_review_1)}\")"
      ],
      "metadata": {
        "colab": {
          "base_uri": "https://localhost:8080/"
        },
        "id": "oDNjxxONqxQ1",
        "outputId": "9ae6e53a-7756-4be9-f2fe-28ef58f9b781"
      },
      "execution_count": 19,
      "outputs": [
        {
          "output_type": "stream",
          "name": "stdout",
          "text": [
            "\u001b[1m1/1\u001b[0m \u001b[32m━━━━━━━━━━━━━━━━━━━━\u001b[0m\u001b[37m\u001b[0m \u001b[1m0s\u001b[0m 34ms/step\n",
            "Sentiment: Positive\n"
          ]
        }
      ]
    },
    {
      "cell_type": "code",
      "source": [
        "new_review_4 = \"It started off well but fell flat in the second half.\"\n",
        "print(f\"Sentiment: {predict_sentiment(new_review_4)}\")"
      ],
      "metadata": {
        "colab": {
          "base_uri": "https://localhost:8080/"
        },
        "id": "06gnpyVSu0-J",
        "outputId": "c6aafc2d-f3b5-4448-8b02-3eb47d2f5aaf"
      },
      "execution_count": 21,
      "outputs": [
        {
          "output_type": "stream",
          "name": "stdout",
          "text": [
            "\u001b[1m1/1\u001b[0m \u001b[32m━━━━━━━━━━━━━━━━━━━━\u001b[0m\u001b[37m\u001b[0m \u001b[1m0s\u001b[0m 36ms/step\n",
            "Sentiment: Negative\n"
          ]
        }
      ]
    },
    {
      "cell_type": "code",
      "source": [],
      "metadata": {
        "id": "nefLKM-82e_Q"
      },
      "execution_count": null,
      "outputs": []
    }
  ]
}